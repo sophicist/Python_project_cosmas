{
 "cells": [
  {
   "cell_type": "code",
   "execution_count": 1,
   "id": "8a442f90",
   "metadata": {
    "scrolled": true
   },
   "outputs": [],
   "source": [
    "import pandas as pd\n",
    "import os\n",
    "import datetime\n",
    "import numpy as np\n",
    "from tabula.io import read_pdf \n",
    "import PyPDF2 \n",
    "os.chdir(\"D:\\L-IFT\\Python_project_cosmas\\Transactions\")\n",
    "\n"
   ]
  },
  {
   "cell_type": "code",
   "execution_count": 2,
   "id": "8d8b3f6d",
   "metadata": {},
   "outputs": [
    {
     "data": {
      "text/plain": [
       "['MPESA_Statement1.pdf',\n",
       " 'MPESA_Statement2.pdf',\n",
       " 'MPESA_Statement3.pdf',\n",
       " 'MPESA_Statement4.pdf',\n",
       " 'MPESA_Statement5.pdf',\n",
       " 'MPESA_Statement6.pdf',\n",
       " 'MPESA_Statement7.pdf']"
      ]
     },
     "execution_count": 2,
     "metadata": {},
     "output_type": "execute_result"
    }
   ],
   "source": [
    "os.listdir()"
   ]
  },
  {
   "cell_type": "code",
   "execution_count": 3,
   "id": "a4c978c4",
   "metadata": {},
   "outputs": [],
   "source": [
    "# from PyPDF2 import PdfFileMerger, PdfFileReader\n",
    "# df = PdfFileMerger()\n",
    "# for df in range(1,7):\n",
    "#     df.append(read_pdf('MPESA_'+ str(df)+'.pdf', pages = \"all\"  ,\n",
    "#                                   password = \"29559943\",guess=True, multiple_tables= True, stream=True,\n",
    "#                                   java_options=\"-Dfile.encoding=UTF8\"))\n"
   ]
  },
  {
   "cell_type": "code",
   "execution_count": 4,
   "id": "de1e1077",
   "metadata": {},
   "outputs": [],
   "source": [
    "# from PyPDF2 import PdfFileMerger, PdfFileReader\n",
    "# df = PdfFileMerger()\n",
    "#merger = PdfFileMerger()\n",
    "\n",
    "#merger.append(read_pdf('MPESA_Statement1.pdf',pages = \"all\"  ,password = \"29559943\",guess=True, multiple_tables= True, java_options=\"-Dfile.encoding=UTF8\" ))\n",
    "# merger.append(PdfFileReader(open(filename2, 'rb')))\n",
    "\n",
    "df = read_pdf(\"MPESA_Statement1.pdf\", pages = \"all\"  ,password = \"29559943\",guess=True, multiple_tables= True, stream=True, java_options=\"-Dfile.encoding=UTF8\")\n",
    "\n",
    "# filename2 = read_pdf(\"MPESA_Statement2.pdf\", pages = \"all\"  ,password = \"29559943\",guess=True, multiple_tables= True, stream=True, java_options=\"-Dfile.encoding=UTF8\")\n",
    "# filename3 = read_pdf(\"MPESA_Statement3.pdf\", pages = \"all\"  ,password = \"29559943\",guess=True, multiple_tables= True, stream=True, java_options=\"-Dfile.encoding=UTF8\")\n",
    "# filename4 = read_pdf(\"MPESA_Statement4.pdf\", pages = \"all\"  ,password = \"29559943\",guess=True, multiple_tables= True, stream=True, java_options=\"-Dfile.encoding=UTF8\")\n",
    "# filename5 = read_pdf(\"MPESA_Statement5.pdf\", pages = \"all\"  ,password = \"29559943\",guess=True, multiple_tables= True, stream=True, java_options=\"-Dfile.encoding=UTF8\")\n",
    "# filename6 = read_pdf(\"MPESA_Statement6.pdf\", pages = \"all\"  ,password = \"29559943\",guess=True, multiple_tables= True, stream=True, java_options=\"-Dfile.encoding=UTF8\")\n",
    "# filename7 = read_pdf(\"MPESA_Statement7.pdf\", pages = \"all\"  ,password = \"29559943\",guess=True, multiple_tables= True, stream=True, java_options=\"-Dfile.encoding=UTF8\")\n",
    "# df.merge(filename1)\n",
    "\n",
    "# df.to_excel('outfile.xlsx', sheet_name='Sheet1', index=True)"
   ]
  },
  {
   "cell_type": "code",
   "execution_count": 5,
   "id": "7dc78f34",
   "metadata": {},
   "outputs": [],
   "source": [
    "chep = []\n",
    "for i in range(1,5):\n",
    "    try:\n",
    "        x = pd.DataFrame(df[i])\n",
    "        chep.append(x)\n",
    "    except:\n",
    "        pass\n",
    "        \n",
    "    "
   ]
  },
  {
   "cell_type": "code",
   "execution_count": 6,
   "id": "2945edf4",
   "metadata": {},
   "outputs": [],
   "source": [
    "df1=pd.concat(chep)"
   ]
  },
  {
   "cell_type": "code",
   "execution_count": 7,
   "id": "7a285d18",
   "metadata": {},
   "outputs": [
    {
     "data": {
      "text/html": [
       "<div>\n",
       "<style scoped>\n",
       "    .dataframe tbody tr th:only-of-type {\n",
       "        vertical-align: middle;\n",
       "    }\n",
       "\n",
       "    .dataframe tbody tr th {\n",
       "        vertical-align: top;\n",
       "    }\n",
       "\n",
       "    .dataframe thead th {\n",
       "        text-align: right;\n",
       "    }\n",
       "</style>\n",
       "<table border=\"1\" class=\"dataframe\">\n",
       "  <thead>\n",
       "    <tr style=\"text-align: right;\">\n",
       "      <th></th>\n",
       "      <th>Receipt No.</th>\n",
       "      <th>Completion Time</th>\n",
       "      <th>Details</th>\n",
       "      <th>Transaction</th>\n",
       "      <th>Paid In</th>\n",
       "      <th>Withdrawn</th>\n",
       "      <th>Balance</th>\n",
       "      <th>Unnamed: 0</th>\n",
       "    </tr>\n",
       "  </thead>\n",
       "  <tbody>\n",
       "    <tr>\n",
       "      <th>0</th>\n",
       "      <td>NaN</td>\n",
       "      <td>NaN</td>\n",
       "      <td>NaN</td>\n",
       "      <td>Status</td>\n",
       "      <td>NaN</td>\n",
       "      <td>NaN</td>\n",
       "      <td>NaN</td>\n",
       "      <td>NaN</td>\n",
       "    </tr>\n",
       "    <tr>\n",
       "      <th>1</th>\n",
       "      <td>PHV4AV3X8E</td>\n",
       "      <td>2021-08-31 13:45:47</td>\n",
       "      <td>Customer Transfer to 254706847520 - HILDER</td>\n",
       "      <td>Completed</td>\n",
       "      <td>NaN</td>\n",
       "      <td>-80.00</td>\n",
       "      <td>0.11</td>\n",
       "      <td>NaN</td>\n",
       "    </tr>\n",
       "    <tr>\n",
       "      <th>2</th>\n",
       "      <td>NaN</td>\n",
       "      <td>NaN</td>\n",
       "      <td>ADHIAMBO AKETCH</td>\n",
       "      <td>NaN</td>\n",
       "      <td>NaN</td>\n",
       "      <td>NaN</td>\n",
       "      <td>NaN</td>\n",
       "      <td>NaN</td>\n",
       "    </tr>\n",
       "    <tr>\n",
       "      <th>3</th>\n",
       "      <td>PHV9AH28C5</td>\n",
       "      <td>2021-08-31 09:08:32</td>\n",
       "      <td>Airtime Purchase</td>\n",
       "      <td>Completed</td>\n",
       "      <td>NaN</td>\n",
       "      <td>-20.00</td>\n",
       "      <td>80.11</td>\n",
       "      <td>NaN</td>\n",
       "    </tr>\n",
       "    <tr>\n",
       "      <th>4</th>\n",
       "      <td>PHV2AFSQUS</td>\n",
       "      <td>2021-08-31 08:40:21</td>\n",
       "      <td>Buy Bundles</td>\n",
       "      <td>Completed</td>\n",
       "      <td>NaN</td>\n",
       "      <td>-20.00</td>\n",
       "      <td>100.11</td>\n",
       "      <td>NaN</td>\n",
       "    </tr>\n",
       "    <tr>\n",
       "      <th>...</th>\n",
       "      <td>...</td>\n",
       "      <td>...</td>\n",
       "      <td>...</td>\n",
       "      <td>...</td>\n",
       "      <td>...</td>\n",
       "      <td>...</td>\n",
       "      <td>...</td>\n",
       "      <td>...</td>\n",
       "    </tr>\n",
       "    <tr>\n",
       "      <th>32</th>\n",
       "      <td>PH132OE0CV</td>\n",
       "      <td>2021-08-01 14:42:23</td>\n",
       "      <td>Customer Transfer of Funds Charge</td>\n",
       "      <td>Completed</td>\n",
       "      <td>NaN</td>\n",
       "      <td>-32.00</td>\n",
       "      <td>129.61</td>\n",
       "      <td>NaN</td>\n",
       "    </tr>\n",
       "    <tr>\n",
       "      <th>33</th>\n",
       "      <td>PH132OE0CV</td>\n",
       "      <td>2021-08-01 14:42:23</td>\n",
       "      <td>Customer Transfer to 254729946117 - SHEDRACK</td>\n",
       "      <td>Completed</td>\n",
       "      <td>NaN</td>\n",
       "      <td>-2,000.00</td>\n",
       "      <td>161.61</td>\n",
       "      <td>NaN</td>\n",
       "    </tr>\n",
       "    <tr>\n",
       "      <th>34</th>\n",
       "      <td>NaN</td>\n",
       "      <td>NaN</td>\n",
       "      <td>KIBOR</td>\n",
       "      <td>NaN</td>\n",
       "      <td>NaN</td>\n",
       "      <td>NaN</td>\n",
       "      <td>NaN</td>\n",
       "      <td>NaN</td>\n",
       "    </tr>\n",
       "    <tr>\n",
       "      <th>35</th>\n",
       "      <td>PH182OBGCI</td>\n",
       "      <td>2021-08-01 14:40:58</td>\n",
       "      <td>M-Shwari Withdraw</td>\n",
       "      <td>Completed</td>\n",
       "      <td>2,000.00</td>\n",
       "      <td>NaN</td>\n",
       "      <td>2,161.61</td>\n",
       "      <td>NaN</td>\n",
       "    </tr>\n",
       "    <tr>\n",
       "      <th>36</th>\n",
       "      <td>PH132HNHF9</td>\n",
       "      <td>2021-08-01 12:22:38</td>\n",
       "      <td>Airtime Purchase</td>\n",
       "      <td>Completed</td>\n",
       "      <td>NaN</td>\n",
       "      <td>-20.00</td>\n",
       "      <td>161.61</td>\n",
       "      <td>NaN</td>\n",
       "    </tr>\n",
       "  </tbody>\n",
       "</table>\n",
       "<p>238 rows × 8 columns</p>\n",
       "</div>"
      ],
      "text/plain": [
       "   Receipt No.      Completion Time  \\\n",
       "0          NaN                  NaN   \n",
       "1   PHV4AV3X8E  2021-08-31 13:45:47   \n",
       "2          NaN                  NaN   \n",
       "3   PHV9AH28C5  2021-08-31 09:08:32   \n",
       "4   PHV2AFSQUS  2021-08-31 08:40:21   \n",
       "..         ...                  ...   \n",
       "32  PH132OE0CV  2021-08-01 14:42:23   \n",
       "33  PH132OE0CV  2021-08-01 14:42:23   \n",
       "34         NaN                  NaN   \n",
       "35  PH182OBGCI  2021-08-01 14:40:58   \n",
       "36  PH132HNHF9  2021-08-01 12:22:38   \n",
       "\n",
       "                                         Details Transaction   Paid In  \\\n",
       "0                                            NaN      Status       NaN   \n",
       "1     Customer Transfer to 254706847520 - HILDER   Completed       NaN   \n",
       "2                                ADHIAMBO AKETCH         NaN       NaN   \n",
       "3                               Airtime Purchase   Completed       NaN   \n",
       "4                                    Buy Bundles   Completed       NaN   \n",
       "..                                           ...         ...       ...   \n",
       "32             Customer Transfer of Funds Charge   Completed       NaN   \n",
       "33  Customer Transfer to 254729946117 - SHEDRACK   Completed       NaN   \n",
       "34                                         KIBOR         NaN       NaN   \n",
       "35                             M-Shwari Withdraw   Completed  2,000.00   \n",
       "36                              Airtime Purchase   Completed       NaN   \n",
       "\n",
       "    Withdrawn   Balance Unnamed: 0  \n",
       "0         NaN       NaN        NaN  \n",
       "1      -80.00      0.11        NaN  \n",
       "2         NaN       NaN        NaN  \n",
       "3      -20.00     80.11        NaN  \n",
       "4      -20.00    100.11        NaN  \n",
       "..        ...       ...        ...  \n",
       "32     -32.00    129.61        NaN  \n",
       "33  -2,000.00    161.61        NaN  \n",
       "34        NaN       NaN        NaN  \n",
       "35        NaN  2,161.61        NaN  \n",
       "36     -20.00    161.61        NaN  \n",
       "\n",
       "[238 rows x 8 columns]"
      ]
     },
     "execution_count": 7,
     "metadata": {},
     "output_type": "execute_result"
    }
   ],
   "source": [
    "df1"
   ]
  },
  {
   "cell_type": "code",
   "execution_count": 8,
   "id": "c4837f56",
   "metadata": {},
   "outputs": [
    {
     "data": {
      "text/html": [
       "<div>\n",
       "<style scoped>\n",
       "    .dataframe tbody tr th:only-of-type {\n",
       "        vertical-align: middle;\n",
       "    }\n",
       "\n",
       "    .dataframe tbody tr th {\n",
       "        vertical-align: top;\n",
       "    }\n",
       "\n",
       "    .dataframe thead th {\n",
       "        text-align: right;\n",
       "    }\n",
       "</style>\n",
       "<table border=\"1\" class=\"dataframe\">\n",
       "  <thead>\n",
       "    <tr style=\"text-align: right;\">\n",
       "      <th></th>\n",
       "      <th>Receipt No.</th>\n",
       "      <th>Completion Time</th>\n",
       "      <th>Paid In</th>\n",
       "      <th>Withdrawn</th>\n",
       "      <th>Details</th>\n",
       "    </tr>\n",
       "  </thead>\n",
       "  <tbody>\n",
       "    <tr>\n",
       "      <th>0</th>\n",
       "      <td>NaN</td>\n",
       "      <td>NaN</td>\n",
       "      <td>NaN</td>\n",
       "      <td>NaN</td>\n",
       "      <td>NaN</td>\n",
       "    </tr>\n",
       "    <tr>\n",
       "      <th>1</th>\n",
       "      <td>PHV4AV3X8E</td>\n",
       "      <td>2021-08-31 13:45:47</td>\n",
       "      <td>NaN</td>\n",
       "      <td>-80.00</td>\n",
       "      <td>Customer Transfer to 254706847520 - HILDER</td>\n",
       "    </tr>\n",
       "    <tr>\n",
       "      <th>2</th>\n",
       "      <td>NaN</td>\n",
       "      <td>NaN</td>\n",
       "      <td>NaN</td>\n",
       "      <td>NaN</td>\n",
       "      <td>ADHIAMBO AKETCH</td>\n",
       "    </tr>\n",
       "    <tr>\n",
       "      <th>3</th>\n",
       "      <td>PHV9AH28C5</td>\n",
       "      <td>2021-08-31 09:08:32</td>\n",
       "      <td>NaN</td>\n",
       "      <td>-20.00</td>\n",
       "      <td>Airtime Purchase</td>\n",
       "    </tr>\n",
       "    <tr>\n",
       "      <th>4</th>\n",
       "      <td>PHV2AFSQUS</td>\n",
       "      <td>2021-08-31 08:40:21</td>\n",
       "      <td>NaN</td>\n",
       "      <td>-20.00</td>\n",
       "      <td>Buy Bundles</td>\n",
       "    </tr>\n",
       "    <tr>\n",
       "      <th>...</th>\n",
       "      <td>...</td>\n",
       "      <td>...</td>\n",
       "      <td>...</td>\n",
       "      <td>...</td>\n",
       "      <td>...</td>\n",
       "    </tr>\n",
       "    <tr>\n",
       "      <th>32</th>\n",
       "      <td>PH132OE0CV</td>\n",
       "      <td>2021-08-01 14:42:23</td>\n",
       "      <td>NaN</td>\n",
       "      <td>-32.00</td>\n",
       "      <td>Customer Transfer of Funds Charge</td>\n",
       "    </tr>\n",
       "    <tr>\n",
       "      <th>33</th>\n",
       "      <td>PH132OE0CV</td>\n",
       "      <td>2021-08-01 14:42:23</td>\n",
       "      <td>NaN</td>\n",
       "      <td>-2,000.00</td>\n",
       "      <td>Customer Transfer to 254729946117 - SHEDRACK</td>\n",
       "    </tr>\n",
       "    <tr>\n",
       "      <th>34</th>\n",
       "      <td>NaN</td>\n",
       "      <td>NaN</td>\n",
       "      <td>NaN</td>\n",
       "      <td>NaN</td>\n",
       "      <td>KIBOR</td>\n",
       "    </tr>\n",
       "    <tr>\n",
       "      <th>35</th>\n",
       "      <td>PH182OBGCI</td>\n",
       "      <td>2021-08-01 14:40:58</td>\n",
       "      <td>2,000.00</td>\n",
       "      <td>NaN</td>\n",
       "      <td>M-Shwari Withdraw</td>\n",
       "    </tr>\n",
       "    <tr>\n",
       "      <th>36</th>\n",
       "      <td>PH132HNHF9</td>\n",
       "      <td>2021-08-01 12:22:38</td>\n",
       "      <td>NaN</td>\n",
       "      <td>-20.00</td>\n",
       "      <td>Airtime Purchase</td>\n",
       "    </tr>\n",
       "  </tbody>\n",
       "</table>\n",
       "<p>238 rows × 5 columns</p>\n",
       "</div>"
      ],
      "text/plain": [
       "   Receipt No.      Completion Time   Paid In  Withdrawn  \\\n",
       "0          NaN                  NaN       NaN        NaN   \n",
       "1   PHV4AV3X8E  2021-08-31 13:45:47       NaN     -80.00   \n",
       "2          NaN                  NaN       NaN        NaN   \n",
       "3   PHV9AH28C5  2021-08-31 09:08:32       NaN     -20.00   \n",
       "4   PHV2AFSQUS  2021-08-31 08:40:21       NaN     -20.00   \n",
       "..         ...                  ...       ...        ...   \n",
       "32  PH132OE0CV  2021-08-01 14:42:23       NaN     -32.00   \n",
       "33  PH132OE0CV  2021-08-01 14:42:23       NaN  -2,000.00   \n",
       "34         NaN                  NaN       NaN        NaN   \n",
       "35  PH182OBGCI  2021-08-01 14:40:58  2,000.00        NaN   \n",
       "36  PH132HNHF9  2021-08-01 12:22:38       NaN     -20.00   \n",
       "\n",
       "                                         Details  \n",
       "0                                            NaN  \n",
       "1     Customer Transfer to 254706847520 - HILDER  \n",
       "2                                ADHIAMBO AKETCH  \n",
       "3                               Airtime Purchase  \n",
       "4                                    Buy Bundles  \n",
       "..                                           ...  \n",
       "32             Customer Transfer of Funds Charge  \n",
       "33  Customer Transfer to 254729946117 - SHEDRACK  \n",
       "34                                         KIBOR  \n",
       "35                             M-Shwari Withdraw  \n",
       "36                              Airtime Purchase  \n",
       "\n",
       "[238 rows x 5 columns]"
      ]
     },
     "execution_count": 8,
     "metadata": {},
     "output_type": "execute_result"
    }
   ],
   "source": [
    "dfs=df1[['Receipt No.','Completion Time','Paid In','Withdrawn','Details']]\n",
    "dfs"
   ]
  },
  {
   "cell_type": "code",
   "execution_count": 9,
   "id": "e7afd5ea",
   "metadata": {},
   "outputs": [
    {
     "name": "stderr",
     "output_type": "stream",
     "text": [
      "c:\\users\\cosmas\\appdata\\local\\programs\\python\\python39\\lib\\site-packages\\pandas\\util\\_decorators.py:311: SettingWithCopyWarning: \n",
      "A value is trying to be set on a copy of a slice from a DataFrame\n",
      "\n",
      "See the caveats in the documentation: https://pandas.pydata.org/pandas-docs/stable/user_guide/indexing.html#returning-a-view-versus-a-copy\n",
      "  return func(*args, **kwargs)\n"
     ]
    }
   ],
   "source": [
    "dfs1 = dfs.dropna(thresh=2)\n",
    "dfs1.sort_values(by=['Paid In'], inplace=True)\n"
   ]
  },
  {
   "cell_type": "code",
   "execution_count": 10,
   "id": "8191330d",
   "metadata": {},
   "outputs": [
    {
     "name": "stderr",
     "output_type": "stream",
     "text": [
      "C:\\Users\\Cosmas\\AppData\\Local\\Temp/ipykernel_2108/3289528392.py:2: SettingWithCopyWarning: \n",
      "A value is trying to be set on a copy of a slice from a DataFrame.\n",
      "Try using .loc[row_indexer,col_indexer] = value instead\n",
      "\n",
      "See the caveats in the documentation: https://pandas.pydata.org/pandas-docs/stable/user_guide/indexing.html#returning-a-view-versus-a-copy\n",
      "  dfs1['Completion Time'] =pd.DatetimeIndex(dfs1['Completion Time'])\n",
      "C:\\Users\\Cosmas\\AppData\\Local\\Temp/ipykernel_2108/3289528392.py:3: SettingWithCopyWarning: \n",
      "A value is trying to be set on a copy of a slice from a DataFrame.\n",
      "Try using .loc[row_indexer,col_indexer] = value instead\n",
      "\n",
      "See the caveats in the documentation: https://pandas.pydata.org/pandas-docs/stable/user_guide/indexing.html#returning-a-view-versus-a-copy\n",
      "  dfs1['month'] = [i.month_name() for i in dfs1['Completion Time']]\n",
      "C:\\Users\\Cosmas\\AppData\\Local\\Temp/ipykernel_2108/3289528392.py:4: SettingWithCopyWarning: \n",
      "A value is trying to be set on a copy of a slice from a DataFrame.\n",
      "Try using .loc[row_indexer,col_indexer] = value instead\n",
      "\n",
      "See the caveats in the documentation: https://pandas.pydata.org/pandas-docs/stable/user_guide/indexing.html#returning-a-view-versus-a-copy\n",
      "  dfs1['year'] = [i.year  for i in dfs1['Completion Time']]\n"
     ]
    },
    {
     "data": {
      "text/html": [
       "<div>\n",
       "<style scoped>\n",
       "    .dataframe tbody tr th:only-of-type {\n",
       "        vertical-align: middle;\n",
       "    }\n",
       "\n",
       "    .dataframe tbody tr th {\n",
       "        vertical-align: top;\n",
       "    }\n",
       "\n",
       "    .dataframe thead th {\n",
       "        text-align: right;\n",
       "    }\n",
       "</style>\n",
       "<table border=\"1\" class=\"dataframe\">\n",
       "  <thead>\n",
       "    <tr style=\"text-align: right;\">\n",
       "      <th></th>\n",
       "      <th>Receipt No.</th>\n",
       "      <th>Completion Time</th>\n",
       "      <th>Paid In</th>\n",
       "      <th>Withdrawn</th>\n",
       "      <th>Details</th>\n",
       "      <th>month</th>\n",
       "      <th>year</th>\n",
       "    </tr>\n",
       "  </thead>\n",
       "  <tbody>\n",
       "    <tr>\n",
       "      <th>12</th>\n",
       "      <td>PH4578STXZ</td>\n",
       "      <td>2021-08-04 16:25:14</td>\n",
       "      <td>1,000.00</td>\n",
       "      <td>NaN</td>\n",
       "      <td>M-Shwari Withdraw</td>\n",
       "      <td>August</td>\n",
       "      <td>2021</td>\n",
       "    </tr>\n",
       "    <tr>\n",
       "      <th>68</th>\n",
       "      <td>PH76C90R3K</td>\n",
       "      <td>2021-08-07 20:56:13</td>\n",
       "      <td>1,000.00</td>\n",
       "      <td>NaN</td>\n",
       "      <td>M-Shwari Withdraw</td>\n",
       "      <td>August</td>\n",
       "      <td>2021</td>\n",
       "    </tr>\n",
       "    <tr>\n",
       "      <th>56</th>\n",
       "      <td>PH97DT0VLX</td>\n",
       "      <td>2021-08-09 07:10:47</td>\n",
       "      <td>1,000.00</td>\n",
       "      <td>NaN</td>\n",
       "      <td>M-Shwari Withdraw</td>\n",
       "      <td>August</td>\n",
       "      <td>2021</td>\n",
       "    </tr>\n",
       "    <tr>\n",
       "      <th>32</th>\n",
       "      <td>PHD5JMCUJ3</td>\n",
       "      <td>2021-08-13 08:54:29</td>\n",
       "      <td>1,000.00</td>\n",
       "      <td>NaN</td>\n",
       "      <td>M-Shwari Withdraw</td>\n",
       "      <td>August</td>\n",
       "      <td>2021</td>\n",
       "    </tr>\n",
       "    <tr>\n",
       "      <th>16</th>\n",
       "      <td>PHG4NR4BY0</td>\n",
       "      <td>2021-08-16 06:59:01</td>\n",
       "      <td>1,000.00</td>\n",
       "      <td>NaN</td>\n",
       "      <td>Business Payment from 501901 - KCB 1 via API. ...</td>\n",
       "      <td>August</td>\n",
       "      <td>2021</td>\n",
       "    </tr>\n",
       "  </tbody>\n",
       "</table>\n",
       "</div>"
      ],
      "text/plain": [
       "   Receipt No.     Completion Time   Paid In Withdrawn  \\\n",
       "12  PH4578STXZ 2021-08-04 16:25:14  1,000.00       NaN   \n",
       "68  PH76C90R3K 2021-08-07 20:56:13  1,000.00       NaN   \n",
       "56  PH97DT0VLX 2021-08-09 07:10:47  1,000.00       NaN   \n",
       "32  PHD5JMCUJ3 2021-08-13 08:54:29  1,000.00       NaN   \n",
       "16  PHG4NR4BY0 2021-08-16 06:59:01  1,000.00       NaN   \n",
       "\n",
       "                                              Details   month  year  \n",
       "12                                  M-Shwari Withdraw  August  2021  \n",
       "68                                  M-Shwari Withdraw  August  2021  \n",
       "56                                  M-Shwari Withdraw  August  2021  \n",
       "32                                  M-Shwari Withdraw  August  2021  \n",
       "16  Business Payment from 501901 - KCB 1 via API. ...  August  2021  "
      ]
     },
     "execution_count": 10,
     "metadata": {},
     "output_type": "execute_result"
    }
   ],
   "source": [
    "# dfs2=dfs1['Completion Time']\n",
    "dfs1['Completion Time'] =pd.DatetimeIndex(dfs1['Completion Time'])\n",
    "dfs1['month'] = [i.month_name() for i in dfs1['Completion Time']]\n",
    "dfs1['year'] = [i.year  for i in dfs1['Completion Time']]\n",
    "\n",
    "dfs1.head()"
   ]
  },
  {
   "cell_type": "code",
   "execution_count": 11,
   "id": "f59dff47",
   "metadata": {},
   "outputs": [
    {
     "name": "stderr",
     "output_type": "stream",
     "text": [
      "C:\\Users\\Cosmas\\AppData\\Local\\Temp/ipykernel_2108/3196250125.py:3: SettingWithCopyWarning: \n",
      "A value is trying to be set on a copy of a slice from a DataFrame.\n",
      "Try using .loc[row_indexer,col_indexer] = value instead\n",
      "\n",
      "See the caveats in the documentation: https://pandas.pydata.org/pandas-docs/stable/user_guide/indexing.html#returning-a-view-versus-a-copy\n",
      "  dfs1['Paid In']=pd.to_numeric(dfs1['Paid In'],errors='coerce').fillna(0)\n",
      "C:\\Users\\Cosmas\\AppData\\Local\\Temp/ipykernel_2108/3196250125.py:4: SettingWithCopyWarning: \n",
      "A value is trying to be set on a copy of a slice from a DataFrame.\n",
      "Try using .loc[row_indexer,col_indexer] = value instead\n",
      "\n",
      "See the caveats in the documentation: https://pandas.pydata.org/pandas-docs/stable/user_guide/indexing.html#returning-a-view-versus-a-copy\n",
      "  dfs1['Withdrawn']=pd.to_numeric(dfs1['Withdrawn'],errors='coerce').fillna(0)\n"
     ]
    }
   ],
   "source": [
    "#dfs1.to_excel('Mpesa1.xlsx', index = False)\n",
    "# d\n",
    "dfs1['Paid In']=pd.to_numeric(dfs1['Paid In'],errors='coerce').fillna(0)\n",
    "dfs1['Withdrawn']=pd.to_numeric(dfs1['Withdrawn'],errors='coerce').fillna(0)\n"
   ]
  },
  {
   "cell_type": "code",
   "execution_count": 12,
   "id": "a170b9e0",
   "metadata": {},
   "outputs": [],
   "source": [
    "import re"
   ]
  },
  {
   "cell_type": "code",
   "execution_count": 13,
   "id": "05ed95b6",
   "metadata": {},
   "outputs": [
    {
     "name": "stderr",
     "output_type": "stream",
     "text": [
      "c:\\users\\cosmas\\appdata\\local\\programs\\python\\python39\\lib\\site-packages\\pandas\\core\\frame.py:3636: SettingWithCopyWarning: \n",
      "A value is trying to be set on a copy of a slice from a DataFrame.\n",
      "Try using .loc[row_indexer,col_indexer] = value instead\n",
      "\n",
      "See the caveats in the documentation: https://pandas.pydata.org/pandas-docs/stable/user_guide/indexing.html#returning-a-view-versus-a-copy\n",
      "  self[k1] = value[k2]\n"
     ]
    }
   ],
   "source": [
    "dfs1[['num','Transaction type','Ac','sd','nmb','bvc','vbf','vbff','hgf','kljh']]=dfs1['Details'].str.split(' ', expand=True)"
   ]
  },
  {
   "cell_type": "code",
   "execution_count": 14,
   "id": "38a7ee4d",
   "metadata": {},
   "outputs": [
    {
     "data": {
      "text/html": [
       "<div>\n",
       "<style scoped>\n",
       "    .dataframe tbody tr th:only-of-type {\n",
       "        vertical-align: middle;\n",
       "    }\n",
       "\n",
       "    .dataframe tbody tr th {\n",
       "        vertical-align: top;\n",
       "    }\n",
       "\n",
       "    .dataframe thead th {\n",
       "        text-align: right;\n",
       "    }\n",
       "</style>\n",
       "<table border=\"1\" class=\"dataframe\">\n",
       "  <thead>\n",
       "    <tr style=\"text-align: right;\">\n",
       "      <th></th>\n",
       "      <th>Receipt No.</th>\n",
       "      <th>Completion Time</th>\n",
       "      <th>Paid In</th>\n",
       "      <th>Withdrawn</th>\n",
       "      <th>Details</th>\n",
       "      <th>month</th>\n",
       "      <th>year</th>\n",
       "      <th>num</th>\n",
       "      <th>Transaction type</th>\n",
       "      <th>Ac</th>\n",
       "      <th>sd</th>\n",
       "      <th>nmb</th>\n",
       "      <th>bvc</th>\n",
       "      <th>vbf</th>\n",
       "      <th>vbff</th>\n",
       "      <th>hgf</th>\n",
       "      <th>kljh</th>\n",
       "    </tr>\n",
       "  </thead>\n",
       "  <tbody>\n",
       "    <tr>\n",
       "      <th>12</th>\n",
       "      <td>PH4578STXZ</td>\n",
       "      <td>2021-08-04 16:25:14</td>\n",
       "      <td>0.0</td>\n",
       "      <td>0.0</td>\n",
       "      <td>M-Shwari Withdraw</td>\n",
       "      <td>August</td>\n",
       "      <td>2021</td>\n",
       "      <td>M-Shwari</td>\n",
       "      <td>Withdraw</td>\n",
       "      <td>None</td>\n",
       "      <td>None</td>\n",
       "      <td>None</td>\n",
       "      <td>None</td>\n",
       "      <td>None</td>\n",
       "      <td>None</td>\n",
       "      <td>None</td>\n",
       "      <td>None</td>\n",
       "    </tr>\n",
       "    <tr>\n",
       "      <th>68</th>\n",
       "      <td>PH76C90R3K</td>\n",
       "      <td>2021-08-07 20:56:13</td>\n",
       "      <td>0.0</td>\n",
       "      <td>0.0</td>\n",
       "      <td>M-Shwari Withdraw</td>\n",
       "      <td>August</td>\n",
       "      <td>2021</td>\n",
       "      <td>M-Shwari</td>\n",
       "      <td>Withdraw</td>\n",
       "      <td>None</td>\n",
       "      <td>None</td>\n",
       "      <td>None</td>\n",
       "      <td>None</td>\n",
       "      <td>None</td>\n",
       "      <td>None</td>\n",
       "      <td>None</td>\n",
       "      <td>None</td>\n",
       "    </tr>\n",
       "    <tr>\n",
       "      <th>56</th>\n",
       "      <td>PH97DT0VLX</td>\n",
       "      <td>2021-08-09 07:10:47</td>\n",
       "      <td>0.0</td>\n",
       "      <td>0.0</td>\n",
       "      <td>M-Shwari Withdraw</td>\n",
       "      <td>August</td>\n",
       "      <td>2021</td>\n",
       "      <td>M-Shwari</td>\n",
       "      <td>Withdraw</td>\n",
       "      <td>None</td>\n",
       "      <td>None</td>\n",
       "      <td>None</td>\n",
       "      <td>None</td>\n",
       "      <td>None</td>\n",
       "      <td>None</td>\n",
       "      <td>None</td>\n",
       "      <td>None</td>\n",
       "    </tr>\n",
       "    <tr>\n",
       "      <th>32</th>\n",
       "      <td>PHD5JMCUJ3</td>\n",
       "      <td>2021-08-13 08:54:29</td>\n",
       "      <td>0.0</td>\n",
       "      <td>0.0</td>\n",
       "      <td>M-Shwari Withdraw</td>\n",
       "      <td>August</td>\n",
       "      <td>2021</td>\n",
       "      <td>M-Shwari</td>\n",
       "      <td>Withdraw</td>\n",
       "      <td>None</td>\n",
       "      <td>None</td>\n",
       "      <td>None</td>\n",
       "      <td>None</td>\n",
       "      <td>None</td>\n",
       "      <td>None</td>\n",
       "      <td>None</td>\n",
       "      <td>None</td>\n",
       "    </tr>\n",
       "    <tr>\n",
       "      <th>16</th>\n",
       "      <td>PHG4NR4BY0</td>\n",
       "      <td>2021-08-16 06:59:01</td>\n",
       "      <td>0.0</td>\n",
       "      <td>0.0</td>\n",
       "      <td>Business Payment from 501901 - KCB 1 via API. ...</td>\n",
       "      <td>August</td>\n",
       "      <td>2021</td>\n",
       "      <td>Business</td>\n",
       "      <td>Payment</td>\n",
       "      <td>from</td>\n",
       "      <td>501901</td>\n",
       "      <td>-</td>\n",
       "      <td>KCB</td>\n",
       "      <td>1</td>\n",
       "      <td>via</td>\n",
       "      <td>API.</td>\n",
       "      <td>Original</td>\n",
       "    </tr>\n",
       "  </tbody>\n",
       "</table>\n",
       "</div>"
      ],
      "text/plain": [
       "   Receipt No.     Completion Time  Paid In  Withdrawn  \\\n",
       "12  PH4578STXZ 2021-08-04 16:25:14      0.0        0.0   \n",
       "68  PH76C90R3K 2021-08-07 20:56:13      0.0        0.0   \n",
       "56  PH97DT0VLX 2021-08-09 07:10:47      0.0        0.0   \n",
       "32  PHD5JMCUJ3 2021-08-13 08:54:29      0.0        0.0   \n",
       "16  PHG4NR4BY0 2021-08-16 06:59:01      0.0        0.0   \n",
       "\n",
       "                                              Details   month  year       num  \\\n",
       "12                                  M-Shwari Withdraw  August  2021  M-Shwari   \n",
       "68                                  M-Shwari Withdraw  August  2021  M-Shwari   \n",
       "56                                  M-Shwari Withdraw  August  2021  M-Shwari   \n",
       "32                                  M-Shwari Withdraw  August  2021  M-Shwari   \n",
       "16  Business Payment from 501901 - KCB 1 via API. ...  August  2021  Business   \n",
       "\n",
       "   Transaction type    Ac      sd   nmb   bvc   vbf  vbff   hgf      kljh  \n",
       "12         Withdraw  None    None  None  None  None  None  None      None  \n",
       "68         Withdraw  None    None  None  None  None  None  None      None  \n",
       "56         Withdraw  None    None  None  None  None  None  None      None  \n",
       "32         Withdraw  None    None  None  None  None  None  None      None  \n",
       "16          Payment  from  501901     -   KCB     1   via  API.  Original  "
      ]
     },
     "execution_count": 14,
     "metadata": {},
     "output_type": "execute_result"
    }
   ],
   "source": [
    "dfs1.head()"
   ]
  },
  {
   "cell_type": "code",
   "execution_count": 15,
   "id": "b2f74014",
   "metadata": {},
   "outputs": [
    {
     "ename": "NameError",
     "evalue": "name 'plot' is not defined",
     "output_type": "error",
     "traceback": [
      "\u001b[1;31m---------------------------------------------------------------------------\u001b[0m",
      "\u001b[1;31mNameError\u001b[0m                                 Traceback (most recent call last)",
      "\u001b[1;32m~\\AppData\\Local\\Temp/ipykernel_2108/3825448189.py\u001b[0m in \u001b[0;36m<module>\u001b[1;34m\u001b[0m\n\u001b[0;32m      1\u001b[0m \u001b[1;32mimport\u001b[0m \u001b[0mmatplotlib\u001b[0m\u001b[1;33m.\u001b[0m\u001b[0mpyplot\u001b[0m \u001b[1;32mas\u001b[0m \u001b[0mplt\u001b[0m\u001b[1;33m\u001b[0m\u001b[1;33m\u001b[0m\u001b[0m\n\u001b[0;32m      2\u001b[0m \u001b[0mdfs1\u001b[0m\u001b[1;33m.\u001b[0m\u001b[0mplot\u001b[0m\u001b[1;33m.\u001b[0m\u001b[0mbar\u001b[0m\u001b[1;33m(\u001b[0m\u001b[0mx\u001b[0m\u001b[1;33m=\u001b[0m\u001b[1;34m\"num\"\u001b[0m\u001b[1;33m,\u001b[0m\u001b[0my\u001b[0m\u001b[1;33m=\u001b[0m\u001b[1;34m\"Paid In\"\u001b[0m\u001b[1;33m)\u001b[0m\u001b[1;33m\u001b[0m\u001b[1;33m\u001b[0m\u001b[0m\n\u001b[1;32m----> 3\u001b[1;33m \u001b[0mplot\u001b[0m\u001b[1;33m.\u001b[0m\u001b[0mshow\u001b[0m\u001b[1;33m(\u001b[0m\u001b[0mblock\u001b[0m\u001b[1;33m=\u001b[0m\u001b[1;32mTrue\u001b[0m\u001b[1;33m)\u001b[0m\u001b[1;33m\u001b[0m\u001b[1;33m\u001b[0m\u001b[0m\n\u001b[0m\u001b[0;32m      4\u001b[0m \u001b[1;33m\u001b[0m\u001b[0m\n",
      "\u001b[1;31mNameError\u001b[0m: name 'plot' is not defined"
     ]
    },
    {
     "data": {
      "image/png": "[encoded data removed]",
      "text/plain": [
       "<Figure size 432x288 with 1 Axes>"
      ]
     },
     "metadata": {
      "needs_background": "light"
     },
     "output_type": "display_data"
    }
   ],
   "source": [
    "import matplotlib.pyplot as plt\n",
    "dfs1.plot.bar(x=\"num\",y=\"Paid In\")\n",
    "plot.show(block=True)\n",
    "\n"
   ]
  },
  {
   "cell_type": "code",
   "execution_count": 16,
   "id": "dae79f67",
   "metadata": {},
   "outputs": [
    {
     "data": {
      "text/plain": [
       "3045.0"
      ]
     },
     "execution_count": 16,
     "metadata": {},
     "output_type": "execute_result"
    },
    {
     "data": {
      "image/png": "[encoded data removed]",
      "text/plain": [
       "<Figure size 432x288 with 1 Axes>"
      ]
     },
     "metadata": {
      "needs_background": "light"
     },
     "output_type": "display_data"
    }
   ],
   "source": [
    "dfs1.copy\n",
    "dfs2=dfs1.groupby(['Transaction type','num'])['Paid In'].sum()\n",
    "dfs2.plot.bar()\n",
    "dfs2.agg(np.sum)"
   ]
  },
  {
   "cell_type": "code",
   "execution_count": 17,
   "id": "53a0ec6e",
   "metadata": {},
   "outputs": [
    {
     "data": {
      "text/plain": [
       "Transaction type  num       \n",
       "Bill              Pay           0.0\n",
       "Bundles           Buy           0.0\n",
       "Charge            Withdrawal    0.0\n",
       "Deposit           M-Shwari      0.0\n",
       "International     Receive       0.0\n",
       "Name: Paid In, dtype: float64"
      ]
     },
     "execution_count": 17,
     "metadata": {},
     "output_type": "execute_result"
    }
   ],
   "source": [
    "dfs2.head()"
   ]
  },
  {
   "cell_type": "code",
   "execution_count": 18,
   "id": "85ade629",
   "metadata": {
    "collapsed": true
   },
   "outputs": [
    {
     "ename": "AttributeError",
     "evalue": "'list' object has no attribute 'seek'",
     "output_type": "error",
     "traceback": [
      "\u001b[1;31m---------------------------------------------------------------------------\u001b[0m",
      "\u001b[1;31mAttributeError\u001b[0m                            Traceback (most recent call last)",
      "\u001b[1;32m~\\AppData\\Local\\Temp/ipykernel_2108/80917359.py\u001b[0m in \u001b[0;36m<module>\u001b[1;34m\u001b[0m\n\u001b[0;32m      4\u001b[0m \u001b[1;31m# X= [a for a in os.listdir() if a.endswith(\".pdf\")]\u001b[0m\u001b[1;33m\u001b[0m\u001b[1;33m\u001b[0m\u001b[1;33m\u001b[0m\u001b[0m\n\u001b[0;32m      5\u001b[0m \u001b[1;32mfor\u001b[0m \u001b[0mpdfs\u001b[0m \u001b[1;32min\u001b[0m \u001b[0mos\u001b[0m\u001b[1;33m.\u001b[0m\u001b[0mlistdir\u001b[0m\u001b[1;33m(\u001b[0m\u001b[0mdfgs\u001b[0m\u001b[1;33m)\u001b[0m\u001b[1;33m:\u001b[0m\u001b[1;33m\u001b[0m\u001b[1;33m\u001b[0m\u001b[0m\n\u001b[1;32m----> 6\u001b[1;33m     merger.append(read_pdf(pdfs,password =\"29559943\",pages =\"all\",guess=True, \n\u001b[0m\u001b[0;32m      7\u001b[0m     multiple_tables= True, stream=False, java_options=\"-Dfile.encoding=UTF8\"))\n\u001b[0;32m      8\u001b[0m \u001b[1;31m#     merger.append(read_pdf(pdfs, password =\"29559943\",pages =\"all\",guess=True, multiple_tables= True, stream=True, java_options=\"-Dfile.encoding=UTF8\"))\u001b[0m\u001b[1;33m\u001b[0m\u001b[1;33m\u001b[0m\u001b[1;33m\u001b[0m\u001b[0m\n",
      "\u001b[1;32mc:\\users\\cosmas\\appdata\\local\\programs\\python\\python39\\lib\\site-packages\\PyPDF2\\merger.py\u001b[0m in \u001b[0;36mappend\u001b[1;34m(self, fileobj, bookmark, pages, import_bookmarks)\u001b[0m\n\u001b[0;32m    201\u001b[0m         \"\"\"\n\u001b[0;32m    202\u001b[0m \u001b[1;33m\u001b[0m\u001b[0m\n\u001b[1;32m--> 203\u001b[1;33m         \u001b[0mself\u001b[0m\u001b[1;33m.\u001b[0m\u001b[0mmerge\u001b[0m\u001b[1;33m(\u001b[0m\u001b[0mlen\u001b[0m\u001b[1;33m(\u001b[0m\u001b[0mself\u001b[0m\u001b[1;33m.\u001b[0m\u001b[0mpages\u001b[0m\u001b[1;33m)\u001b[0m\u001b[1;33m,\u001b[0m \u001b[0mfileobj\u001b[0m\u001b[1;33m,\u001b[0m \u001b[0mbookmark\u001b[0m\u001b[1;33m,\u001b[0m \u001b[0mpages\u001b[0m\u001b[1;33m,\u001b[0m \u001b[0mimport_bookmarks\u001b[0m\u001b[1;33m)\u001b[0m\u001b[1;33m\u001b[0m\u001b[1;33m\u001b[0m\u001b[0m\n\u001b[0m\u001b[0;32m    204\u001b[0m \u001b[1;33m\u001b[0m\u001b[0m\n\u001b[0;32m    205\u001b[0m     \u001b[1;32mdef\u001b[0m \u001b[0mwrite\u001b[0m\u001b[1;33m(\u001b[0m\u001b[0mself\u001b[0m\u001b[1;33m,\u001b[0m \u001b[0mfileobj\u001b[0m\u001b[1;33m)\u001b[0m\u001b[1;33m:\u001b[0m\u001b[1;33m\u001b[0m\u001b[1;33m\u001b[0m\u001b[0m\n",
      "\u001b[1;32mc:\\users\\cosmas\\appdata\\local\\programs\\python\\python39\\lib\\site-packages\\PyPDF2\\merger.py\u001b[0m in \u001b[0;36mmerge\u001b[1;34m(self, position, fileobj, bookmark, pages, import_bookmarks)\u001b[0m\n\u001b[0;32m    131\u001b[0m         \u001b[1;31m# Create a new PdfFileReader instance using the stream\u001b[0m\u001b[1;33m\u001b[0m\u001b[1;33m\u001b[0m\u001b[1;33m\u001b[0m\u001b[0m\n\u001b[0;32m    132\u001b[0m         \u001b[1;31m# (either file or BytesIO or StringIO) created above\u001b[0m\u001b[1;33m\u001b[0m\u001b[1;33m\u001b[0m\u001b[1;33m\u001b[0m\u001b[0m\n\u001b[1;32m--> 133\u001b[1;33m         \u001b[0mpdfr\u001b[0m \u001b[1;33m=\u001b[0m \u001b[0mPdfFileReader\u001b[0m\u001b[1;33m(\u001b[0m\u001b[0mfileobj\u001b[0m\u001b[1;33m,\u001b[0m \u001b[0mstrict\u001b[0m\u001b[1;33m=\u001b[0m\u001b[0mself\u001b[0m\u001b[1;33m.\u001b[0m\u001b[0mstrict\u001b[0m\u001b[1;33m)\u001b[0m\u001b[1;33m\u001b[0m\u001b[1;33m\u001b[0m\u001b[0m\n\u001b[0m\u001b[0;32m    134\u001b[0m         \u001b[1;32mif\u001b[0m \u001b[0mdecryption_key\u001b[0m \u001b[1;32mis\u001b[0m \u001b[1;32mnot\u001b[0m \u001b[1;32mNone\u001b[0m\u001b[1;33m:\u001b[0m\u001b[1;33m\u001b[0m\u001b[1;33m\u001b[0m\u001b[0m\n\u001b[0;32m    135\u001b[0m             \u001b[0mpdfr\u001b[0m\u001b[1;33m.\u001b[0m\u001b[0m_decryption_key\u001b[0m \u001b[1;33m=\u001b[0m \u001b[0mdecryption_key\u001b[0m\u001b[1;33m\u001b[0m\u001b[1;33m\u001b[0m\u001b[0m\n",
      "\u001b[1;32mc:\\users\\cosmas\\appdata\\local\\programs\\python\\python39\\lib\\site-packages\\PyPDF2\\pdf.py\u001b[0m in \u001b[0;36m__init__\u001b[1;34m(self, stream, strict, warndest, overwriteWarnings)\u001b[0m\n\u001b[0;32m   1082\u001b[0m             \u001b[0mstream\u001b[0m \u001b[1;33m=\u001b[0m \u001b[0mBytesIO\u001b[0m\u001b[1;33m(\u001b[0m\u001b[0mb_\u001b[0m\u001b[1;33m(\u001b[0m\u001b[0mfileobj\u001b[0m\u001b[1;33m.\u001b[0m\u001b[0mread\u001b[0m\u001b[1;33m(\u001b[0m\u001b[1;33m)\u001b[0m\u001b[1;33m)\u001b[0m\u001b[1;33m)\u001b[0m\u001b[1;33m\u001b[0m\u001b[1;33m\u001b[0m\u001b[0m\n\u001b[0;32m   1083\u001b[0m             \u001b[0mfileobj\u001b[0m\u001b[1;33m.\u001b[0m\u001b[0mclose\u001b[0m\u001b[1;33m(\u001b[0m\u001b[1;33m)\u001b[0m\u001b[1;33m\u001b[0m\u001b[1;33m\u001b[0m\u001b[0m\n\u001b[1;32m-> 1084\u001b[1;33m         \u001b[0mself\u001b[0m\u001b[1;33m.\u001b[0m\u001b[0mread\u001b[0m\u001b[1;33m(\u001b[0m\u001b[0mstream\u001b[0m\u001b[1;33m)\u001b[0m\u001b[1;33m\u001b[0m\u001b[1;33m\u001b[0m\u001b[0m\n\u001b[0m\u001b[0;32m   1085\u001b[0m         \u001b[0mself\u001b[0m\u001b[1;33m.\u001b[0m\u001b[0mstream\u001b[0m \u001b[1;33m=\u001b[0m \u001b[0mstream\u001b[0m\u001b[1;33m\u001b[0m\u001b[1;33m\u001b[0m\u001b[0m\n\u001b[0;32m   1086\u001b[0m \u001b[1;33m\u001b[0m\u001b[0m\n",
      "\u001b[1;32mc:\\users\\cosmas\\appdata\\local\\programs\\python\\python39\\lib\\site-packages\\PyPDF2\\pdf.py\u001b[0m in \u001b[0;36mread\u001b[1;34m(self, stream)\u001b[0m\n\u001b[0;32m   1687\u001b[0m         \u001b[1;32mif\u001b[0m \u001b[0mdebug\u001b[0m\u001b[1;33m:\u001b[0m \u001b[0mprint\u001b[0m\u001b[1;33m(\u001b[0m\u001b[1;34m\">>read\"\u001b[0m\u001b[1;33m,\u001b[0m \u001b[0mstream\u001b[0m\u001b[1;33m)\u001b[0m\u001b[1;33m\u001b[0m\u001b[1;33m\u001b[0m\u001b[0m\n\u001b[0;32m   1688\u001b[0m         \u001b[1;31m# start at the end:\u001b[0m\u001b[1;33m\u001b[0m\u001b[1;33m\u001b[0m\u001b[1;33m\u001b[0m\u001b[0m\n\u001b[1;32m-> 1689\u001b[1;33m         \u001b[0mstream\u001b[0m\u001b[1;33m.\u001b[0m\u001b[0mseek\u001b[0m\u001b[1;33m(\u001b[0m\u001b[1;33m-\u001b[0m\u001b[1;36m1\u001b[0m\u001b[1;33m,\u001b[0m \u001b[1;36m2\u001b[0m\u001b[1;33m)\u001b[0m\u001b[1;33m\u001b[0m\u001b[1;33m\u001b[0m\u001b[0m\n\u001b[0m\u001b[0;32m   1690\u001b[0m         \u001b[1;32mif\u001b[0m \u001b[1;32mnot\u001b[0m \u001b[0mstream\u001b[0m\u001b[1;33m.\u001b[0m\u001b[0mtell\u001b[0m\u001b[1;33m(\u001b[0m\u001b[1;33m)\u001b[0m\u001b[1;33m:\u001b[0m\u001b[1;33m\u001b[0m\u001b[1;33m\u001b[0m\u001b[0m\n\u001b[0;32m   1691\u001b[0m             \u001b[1;32mraise\u001b[0m \u001b[0mutils\u001b[0m\u001b[1;33m.\u001b[0m\u001b[0mPdfReadError\u001b[0m\u001b[1;33m(\u001b[0m\u001b[1;34m'Cannot read an empty file'\u001b[0m\u001b[1;33m)\u001b[0m\u001b[1;33m\u001b[0m\u001b[1;33m\u001b[0m\u001b[0m\n",
      "\u001b[1;31mAttributeError\u001b[0m: 'list' object has no attribute 'seek'"
     ]
    }
   ],
   "source": [
    "from PyPDF2 import PdfFileMerger\n",
    "dfgs=os.getcwd()\n",
    "merger=PdfFileMerger()\n",
    "# X= [a for a in os.listdir() if a.endswith(\".pdf\")]\n",
    "for pdfs in os.listdir(dfgs):\n",
    "    merger.append(read_pdf(pdfs,password =\"29559943\",pages =\"all\",guess=True, \n",
    "    multiple_tables= True, stream=False, java_options=\"-Dfile.encoding=UTF8\"))\n",
    "#     merger.append(read_pdf(pdfs, password =\"29559943\",pages =\"all\",guess=True, multiple_tables= True, stream=True, java_options=\"-Dfile.encoding=UTF8\"))\n",
    "# df=read_pdf(\"MPESA_Statement1.pdf\", pages = \"all\"  ,password = \"29559943\",guess=True, multiple_tables= True, stream=True, java_options=\"-Dfile.encoding=UTF8\")\n",
    "# pdf_files=['MPESA_Statement1.pdf','MPESA_Statement2.pdf','MPESA_Statement3.pdf',\n",
    "# 'MPESA_Statement4.pdf','MPESA_Statement5.pdf','MPESA_Statement6.pdf','MPESA_Statement7.pdf']\n",
    "# df=read_pdf(X, pages = \"all\"  ,password = \"29559943\",guess=True, multiple_tables= True, stream=True, java_options=\"-Dfile.encoding=UTF8\")\n",
    "# merger=PdfFileMerger()\n",
    "# for files in df:\n",
    "#     merger.append(path+files)\n",
    "# if not os.path.exists(path+'merged.pdf')  \n",
    "# merger.write(path+'merged.pdf') \n",
    "# merger.close() \n",
    "print(merger)"
   ]
  },
  {
   "cell_type": "code",
   "execution_count": 19,
   "id": "f4b046a0",
   "metadata": {},
   "outputs": [
    {
     "data": {
      "text/plain": [
       "<PyPDF2.merger.PdfFileMerger at 0x232a67b66d0>"
      ]
     },
     "execution_count": 19,
     "metadata": {},
     "output_type": "execute_result"
    }
   ],
   "source": [
    "merger"
   ]
  },
  {
   "cell_type": "code",
   "execution_count": 59,
   "id": "cd9fbed6",
   "metadata": {},
   "outputs": [
    {
     "name": "stdout",
     "output_type": "stream",
     "text": [
      "D:\\L-IFT\\Python_project_cosmas\\Transactions\n"
     ]
    }
   ],
   "source": [
    "print(dfgs)"
   ]
  },
  {
   "cell_type": "code",
   "execution_count": 56,
   "id": "00a8e0cf",
   "metadata": {},
   "outputs": [
    {
     "data": {
      "text/plain": [
       "'D:\\\\L-IFT\\\\Python_project_cosmas\\\\Transactions'"
      ]
     },
     "execution_count": 56,
     "metadata": {},
     "output_type": "execute_result"
    }
   ],
   "source": [
    "os.getcwd()"
   ]
  },
  {
   "cell_type": "code",
   "execution_count": null,
   "id": "89659d3a",
   "metadata": {},
   "outputs": [],
   "source": []
  }
 ],
 "metadata": {
  "kernelspec": {
   "display_name": "Python 3 (ipykernel)",
   "language": "python",
   "name": "python3"
  },
  "language_info": {
   "codemirror_mode": {
    "name": "ipython",
    "version": 3
   },
   "file_extension": ".py",
   "mimetype": "text/x-python",
   "name": "python",
   "nbconvert_exporter": "python",
   "pygments_lexer": "ipython3",
   "version": "3.9.6"
  }
 },
 "nbformat": 4,
 "nbformat_minor": 5
}
